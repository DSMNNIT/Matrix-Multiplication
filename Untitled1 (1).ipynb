{
  "nbformat": 4,
  "nbformat_minor": 0,
  "metadata": {
    "colab": {
      "name": "Untitled1.ipynb",
      "provenance": [],
      "collapsed_sections": []
    },
    "kernelspec": {
      "name": "python3",
      "display_name": "Python 3"
    },
    "language_info": {
      "name": "python"
    }
  },
  "cells": [
    {
      "cell_type": "code",
      "metadata": {
        "colab": {
          "base_uri": "https://localhost:8080/"
        },
        "id": "cAXXPkth5aha",
        "outputId": "afc91513-dadc-4942-b18d-467f048ca9d6"
      },
      "source": [
        "\"Write a program to multiply two matices \"\n",
        "\"\"\"First take two matrices\"\"\"\n",
        "x=[[1,2,3],[4,5,6],[7,8,9]]\n",
        "y=[[1,2,3],[4,5,6],[7,8,9]]\n",
        "\n",
        "print(\"----------------------\")\n",
        "\n",
        "print(\"Length of matrix1 is   \",len(x))\n",
        "\n",
        "print(\"Range of the matrixa is \",range(len(x)))\n",
        "\n",
        "print(\"Length of matrix2 is   \",len(y))\n",
        "\n",
        "print(\"----------------------\")\n",
        "z=[[0,0,0],[0,0,0],[0,0,0]]\n",
        "print(\"----------------------\")\n",
        "print(\"First matrix is  \")\n",
        "for i in range(len(x)):\n",
        "  print(x[i])\n",
        "print(\"----------------------\")\n",
        "print(\"Second matrix is  \")\n",
        "for i in range(len(y)):\n",
        "  print(y[i])\n",
        "print(\"----------------------\")\n",
        "print(\"****** Multiplications of two matrices is *******\") \n",
        "for i in range(len(x)):\n",
        "  for j in range(len(y)):\n",
        "    for k in range(len(z)):\n",
        "      z[i][j]=z[i][j] + x[i][k] * y[k][j]\n",
        "print(\"----------------------\")\n",
        "print(\"Result is \")\n",
        "for i in range(len(z)):\n",
        "  print(z[i])\n"
      ],
      "execution_count": 57,
      "outputs": [
        {
          "output_type": "stream",
          "text": [
            "----------------------\n",
            "Length of matrix1 is    3\n",
            "Range of the matrixa is  range(0, 3)\n",
            "Length of matrix2 is    3\n",
            "----------------------\n",
            "----------------------\n",
            "First matrix is  \n",
            "[1, 2, 3]\n",
            "[4, 5, 6]\n",
            "[7, 8, 9]\n",
            "----------------------\n",
            "Second matrix is  \n",
            "[1, 2, 3]\n",
            "[4, 5, 6]\n",
            "[7, 8, 9]\n",
            "----------------------\n",
            "****** Multiplications of two matrices is *******\n",
            "----------------------\n",
            "Result is \n",
            "[30, 36, 42]\n",
            "[66, 81, 96]\n",
            "[102, 126, 150]\n"
          ],
          "name": "stdout"
        }
      ]
    },
    {
      "cell_type": "code",
      "metadata": {
        "id": "1WQQPB_i7EoN"
      },
      "source": [
        ""
      ],
      "execution_count": 54,
      "outputs": []
    }
  ]
}